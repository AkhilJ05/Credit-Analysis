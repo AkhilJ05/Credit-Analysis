{
  "nbformat": 4,
  "nbformat_minor": 0,
  "metadata": {
    "colab": {
      "provenance": [],
      "collapsed_sections": []
    },
    "kernelspec": {
      "name": "python3",
      "display_name": "Python 3"
    },
    "language_info": {
      "name": "python"
    }
  },
  "cells": [
    {
      "cell_type": "code",
      "execution_count": null,
      "metadata": {
        "colab": {
          "base_uri": "https://localhost:8080/"
        },
        "id": "6H1D3LzTV39a",
        "outputId": "d99fcf39-684a-4743-8166-a46056bd6770"
      },
      "outputs": [
        {
          "output_type": "stream",
          "name": "stdout",
          "text": [
            "Mounted at /content/gdrive\n"
          ]
        }
      ],
      "source": [
        "from google.colab import drive\n",
        "drive.mount(\"/content/gdrive\")"
      ]
    },
    {
      "cell_type": "code",
      "source": [
        "import pandas as pd\n",
        "import seaborn as sns\n",
        "import matplotlib.pyplot as plt\n",
        "import numpy as np\n",
        "\n",
        "from sklearn.preprocessing import LabelEncoder\n",
        "from sklearn.preprocessing import OneHotEncoder\n",
        "from sklearn.preprocessing import StandardScaler\n",
        "from sklearn.preprocessing import MinMaxScaler\n",
        "from sklearn.preprocessing import Normalizer\n",
        "from sklearn import preprocessing"
      ],
      "metadata": {
        "id": "w_NZSyJoV-ux"
      },
      "execution_count": null,
      "outputs": []
    },
    {
      "cell_type": "code",
      "source": [
        "df = pd.read_csv('/content/gdrive/MyDrive/Datasets/Bankruptcy.csv')\n",
        "df.head()"
      ],
      "metadata": {
        "colab": {
          "base_uri": "https://localhost:8080/",
          "height": 206
        },
        "id": "zbCXetlfWAnv",
        "outputId": "fb180fdd-16a1-4ab8-ac05-b27564c4ecbe"
      },
      "execution_count": null,
      "outputs": [
        {
          "output_type": "execute_result",
          "data": {
            "text/plain": [
              "   FYEAR  Bankruptcy Status CUSTOMERID    Ratio1    Ratio2    Ratio3  \\\n",
              "0   1999                  0      36020  0.307139  0.887006  1.647681   \n",
              "1   1999                  0      36110  0.760736  0.592493  0.453003   \n",
              "2   1999                  0      37520 -0.513596  0.337615  0.299015   \n",
              "3   1994                  1      78110 -0.466129  0.370747  0.496067   \n",
              "4   1999                  0   00079X10  2.023422  0.214876  0.182595   \n",
              "\n",
              "   Ratio3.1    Ratio4    Ratio5    Ratio6    Ratio7    Ratio8    Ratio9  \n",
              "0 -0.199158  1.092964 -0.313289 -0.196793  1.206763  0.282471  0.158896  \n",
              "1 -0.369890  0.186154  0.039619  0.327497  0.428418  1.106965  0.793443  \n",
              "2 -0.029080 -0.432605  0.829993 -0.707786  0.476153  2.179175  2.484584  \n",
              "3 -0.373429 -0.267424  0.977799 -0.610975  0.456810  0.151951  0.047789  \n",
              "4  6.695360 -1.148338 -1.505889  2.876477  0.287375 -0.986442  0.791077  "
            ],
            "text/html": [
              "\n",
              "  <div id=\"df-0b762789-0100-4cf7-88b2-11c51759403d\">\n",
              "    <div class=\"colab-df-container\">\n",
              "      <div>\n",
              "<style scoped>\n",
              "    .dataframe tbody tr th:only-of-type {\n",
              "        vertical-align: middle;\n",
              "    }\n",
              "\n",
              "    .dataframe tbody tr th {\n",
              "        vertical-align: top;\n",
              "    }\n",
              "\n",
              "    .dataframe thead th {\n",
              "        text-align: right;\n",
              "    }\n",
              "</style>\n",
              "<table border=\"1\" class=\"dataframe\">\n",
              "  <thead>\n",
              "    <tr style=\"text-align: right;\">\n",
              "      <th></th>\n",
              "      <th>FYEAR</th>\n",
              "      <th>Bankruptcy Status</th>\n",
              "      <th>CUSTOMERID</th>\n",
              "      <th>Ratio1</th>\n",
              "      <th>Ratio2</th>\n",
              "      <th>Ratio3</th>\n",
              "      <th>Ratio3.1</th>\n",
              "      <th>Ratio4</th>\n",
              "      <th>Ratio5</th>\n",
              "      <th>Ratio6</th>\n",
              "      <th>Ratio7</th>\n",
              "      <th>Ratio8</th>\n",
              "      <th>Ratio9</th>\n",
              "    </tr>\n",
              "  </thead>\n",
              "  <tbody>\n",
              "    <tr>\n",
              "      <th>0</th>\n",
              "      <td>1999</td>\n",
              "      <td>0</td>\n",
              "      <td>36020</td>\n",
              "      <td>0.307139</td>\n",
              "      <td>0.887006</td>\n",
              "      <td>1.647681</td>\n",
              "      <td>-0.199158</td>\n",
              "      <td>1.092964</td>\n",
              "      <td>-0.313289</td>\n",
              "      <td>-0.196793</td>\n",
              "      <td>1.206763</td>\n",
              "      <td>0.282471</td>\n",
              "      <td>0.158896</td>\n",
              "    </tr>\n",
              "    <tr>\n",
              "      <th>1</th>\n",
              "      <td>1999</td>\n",
              "      <td>0</td>\n",
              "      <td>36110</td>\n",
              "      <td>0.760736</td>\n",
              "      <td>0.592493</td>\n",
              "      <td>0.453003</td>\n",
              "      <td>-0.369890</td>\n",
              "      <td>0.186154</td>\n",
              "      <td>0.039619</td>\n",
              "      <td>0.327497</td>\n",
              "      <td>0.428418</td>\n",
              "      <td>1.106965</td>\n",
              "      <td>0.793443</td>\n",
              "    </tr>\n",
              "    <tr>\n",
              "      <th>2</th>\n",
              "      <td>1999</td>\n",
              "      <td>0</td>\n",
              "      <td>37520</td>\n",
              "      <td>-0.513596</td>\n",
              "      <td>0.337615</td>\n",
              "      <td>0.299015</td>\n",
              "      <td>-0.029080</td>\n",
              "      <td>-0.432605</td>\n",
              "      <td>0.829993</td>\n",
              "      <td>-0.707786</td>\n",
              "      <td>0.476153</td>\n",
              "      <td>2.179175</td>\n",
              "      <td>2.484584</td>\n",
              "    </tr>\n",
              "    <tr>\n",
              "      <th>3</th>\n",
              "      <td>1994</td>\n",
              "      <td>1</td>\n",
              "      <td>78110</td>\n",
              "      <td>-0.466129</td>\n",
              "      <td>0.370747</td>\n",
              "      <td>0.496067</td>\n",
              "      <td>-0.373429</td>\n",
              "      <td>-0.267424</td>\n",
              "      <td>0.977799</td>\n",
              "      <td>-0.610975</td>\n",
              "      <td>0.456810</td>\n",
              "      <td>0.151951</td>\n",
              "      <td>0.047789</td>\n",
              "    </tr>\n",
              "    <tr>\n",
              "      <th>4</th>\n",
              "      <td>1999</td>\n",
              "      <td>0</td>\n",
              "      <td>00079X10</td>\n",
              "      <td>2.023422</td>\n",
              "      <td>0.214876</td>\n",
              "      <td>0.182595</td>\n",
              "      <td>6.695360</td>\n",
              "      <td>-1.148338</td>\n",
              "      <td>-1.505889</td>\n",
              "      <td>2.876477</td>\n",
              "      <td>0.287375</td>\n",
              "      <td>-0.986442</td>\n",
              "      <td>0.791077</td>\n",
              "    </tr>\n",
              "  </tbody>\n",
              "</table>\n",
              "</div>\n",
              "      <button class=\"colab-df-convert\" onclick=\"convertToInteractive('df-0b762789-0100-4cf7-88b2-11c51759403d')\"\n",
              "              title=\"Convert this dataframe to an interactive table.\"\n",
              "              style=\"display:none;\">\n",
              "        \n",
              "  <svg xmlns=\"http://www.w3.org/2000/svg\" height=\"24px\"viewBox=\"0 0 24 24\"\n",
              "       width=\"24px\">\n",
              "    <path d=\"M0 0h24v24H0V0z\" fill=\"none\"/>\n",
              "    <path d=\"M18.56 5.44l.94 2.06.94-2.06 2.06-.94-2.06-.94-.94-2.06-.94 2.06-2.06.94zm-11 1L8.5 8.5l.94-2.06 2.06-.94-2.06-.94L8.5 2.5l-.94 2.06-2.06.94zm10 10l.94 2.06.94-2.06 2.06-.94-2.06-.94-.94-2.06-.94 2.06-2.06.94z\"/><path d=\"M17.41 7.96l-1.37-1.37c-.4-.4-.92-.59-1.43-.59-.52 0-1.04.2-1.43.59L10.3 9.45l-7.72 7.72c-.78.78-.78 2.05 0 2.83L4 21.41c.39.39.9.59 1.41.59.51 0 1.02-.2 1.41-.59l7.78-7.78 2.81-2.81c.8-.78.8-2.07 0-2.86zM5.41 20L4 18.59l7.72-7.72 1.47 1.35L5.41 20z\"/>\n",
              "  </svg>\n",
              "      </button>\n",
              "      \n",
              "  <style>\n",
              "    .colab-df-container {\n",
              "      display:flex;\n",
              "      flex-wrap:wrap;\n",
              "      gap: 12px;\n",
              "    }\n",
              "\n",
              "    .colab-df-convert {\n",
              "      background-color: #E8F0FE;\n",
              "      border: none;\n",
              "      border-radius: 50%;\n",
              "      cursor: pointer;\n",
              "      display: none;\n",
              "      fill: #1967D2;\n",
              "      height: 32px;\n",
              "      padding: 0 0 0 0;\n",
              "      width: 32px;\n",
              "    }\n",
              "\n",
              "    .colab-df-convert:hover {\n",
              "      background-color: #E2EBFA;\n",
              "      box-shadow: 0px 1px 2px rgba(60, 64, 67, 0.3), 0px 1px 3px 1px rgba(60, 64, 67, 0.15);\n",
              "      fill: #174EA6;\n",
              "    }\n",
              "\n",
              "    [theme=dark] .colab-df-convert {\n",
              "      background-color: #3B4455;\n",
              "      fill: #D2E3FC;\n",
              "    }\n",
              "\n",
              "    [theme=dark] .colab-df-convert:hover {\n",
              "      background-color: #434B5C;\n",
              "      box-shadow: 0px 1px 3px 1px rgba(0, 0, 0, 0.15);\n",
              "      filter: drop-shadow(0px 1px 2px rgba(0, 0, 0, 0.3));\n",
              "      fill: #FFFFFF;\n",
              "    }\n",
              "  </style>\n",
              "\n",
              "      <script>\n",
              "        const buttonEl =\n",
              "          document.querySelector('#df-0b762789-0100-4cf7-88b2-11c51759403d button.colab-df-convert');\n",
              "        buttonEl.style.display =\n",
              "          google.colab.kernel.accessAllowed ? 'block' : 'none';\n",
              "\n",
              "        async function convertToInteractive(key) {\n",
              "          const element = document.querySelector('#df-0b762789-0100-4cf7-88b2-11c51759403d');\n",
              "          const dataTable =\n",
              "            await google.colab.kernel.invokeFunction('convertToInteractive',\n",
              "                                                     [key], {});\n",
              "          if (!dataTable) return;\n",
              "\n",
              "          const docLinkHtml = 'Like what you see? Visit the ' +\n",
              "            '<a target=\"_blank\" href=https://colab.research.google.com/notebooks/data_table.ipynb>data table notebook</a>'\n",
              "            + ' to learn more about interactive tables.';\n",
              "          element.innerHTML = '';\n",
              "          dataTable['output_type'] = 'display_data';\n",
              "          await google.colab.output.renderOutput(dataTable, element);\n",
              "          const docLink = document.createElement('div');\n",
              "          docLink.innerHTML = docLinkHtml;\n",
              "          element.appendChild(docLink);\n",
              "        }\n",
              "      </script>\n",
              "    </div>\n",
              "  </div>\n",
              "  "
            ]
          },
          "metadata": {},
          "execution_count": 3
        }
      ]
    },
    {
      "cell_type": "code",
      "source": [
        "print(\"Bank marketing dataset consists of {rows} rows.\".format(rows = len(df)))"
      ],
      "metadata": {
        "colab": {
          "base_uri": "https://localhost:8080/"
        },
        "id": "evW1Y8zaWd-8",
        "outputId": "0442c96f-69f0-460a-ed2d-a28e60e9b124"
      },
      "execution_count": null,
      "outputs": [
        {
          "output_type": "stream",
          "name": "stdout",
          "text": [
            "Bank marketing dataset consists of 2675 rows.\n"
          ]
        }
      ]
    },
    {
      "cell_type": "code",
      "source": [
        "df.info()"
      ],
      "metadata": {
        "colab": {
          "base_uri": "https://localhost:8080/"
        },
        "id": "M_TonSPYWhDH",
        "outputId": "9099172e-1861-43b3-f141-8dd4a746fc8e"
      },
      "execution_count": null,
      "outputs": [
        {
          "output_type": "stream",
          "name": "stdout",
          "text": [
            "<class 'pandas.core.frame.DataFrame'>\n",
            "RangeIndex: 2675 entries, 0 to 2674\n",
            "Data columns (total 13 columns):\n",
            " #   Column             Non-Null Count  Dtype  \n",
            "---  ------             --------------  -----  \n",
            " 0   FYEAR              2675 non-null   int64  \n",
            " 1   Bankruptcy Status  2675 non-null   int64  \n",
            " 2   CUSTOMERID         2675 non-null   object \n",
            " 3   Ratio1             2675 non-null   float64\n",
            " 4   Ratio2             2675 non-null   float64\n",
            " 5   Ratio3             2675 non-null   float64\n",
            " 6   Ratio3.1           2675 non-null   float64\n",
            " 7   Ratio4             2675 non-null   float64\n",
            " 8   Ratio5             2675 non-null   float64\n",
            " 9   Ratio6             2675 non-null   float64\n",
            " 10  Ratio7             2675 non-null   float64\n",
            " 11  Ratio8             2675 non-null   float64\n",
            " 12  Ratio9             2675 non-null   float64\n",
            "dtypes: float64(10), int64(2), object(1)\n",
            "memory usage: 271.8+ KB\n"
          ]
        }
      ]
    },
    {
      "cell_type": "code",
      "source": [
        "df.dtypes"
      ],
      "metadata": {
        "colab": {
          "base_uri": "https://localhost:8080/"
        },
        "id": "skDDyrEBWjKh",
        "outputId": "98027d8a-ea92-4f63-b071-fe3f7fdcfd13"
      },
      "execution_count": null,
      "outputs": [
        {
          "output_type": "execute_result",
          "data": {
            "text/plain": [
              "FYEAR                  int64\n",
              "Bankruptcy Status      int64\n",
              "CUSTOMERID            object\n",
              "Ratio1               float64\n",
              "Ratio2               float64\n",
              "Ratio3               float64\n",
              "Ratio3.1             float64\n",
              "Ratio4               float64\n",
              "Ratio5               float64\n",
              "Ratio6               float64\n",
              "Ratio7               float64\n",
              "Ratio8               float64\n",
              "Ratio9               float64\n",
              "dtype: object"
            ]
          },
          "metadata": {},
          "execution_count": 6
        }
      ]
    },
    {
      "cell_type": "code",
      "source": [
        "df.isnull().any()"
      ],
      "metadata": {
        "colab": {
          "base_uri": "https://localhost:8080/"
        },
        "id": "M03pPjffWmMw",
        "outputId": "42549ab3-053e-4739-8de4-822a8eae286e"
      },
      "execution_count": null,
      "outputs": [
        {
          "output_type": "execute_result",
          "data": {
            "text/plain": [
              "FYEAR                False\n",
              "Bankruptcy Status    False\n",
              "CUSTOMERID           False\n",
              "Ratio1               False\n",
              "Ratio2               False\n",
              "Ratio3               False\n",
              "Ratio3.1             False\n",
              "Ratio4               False\n",
              "Ratio5               False\n",
              "Ratio6               False\n",
              "Ratio7               False\n",
              "Ratio8               False\n",
              "Ratio9               False\n",
              "dtype: bool"
            ]
          },
          "metadata": {},
          "execution_count": 8
        }
      ]
    },
    {
      "cell_type": "code",
      "source": [
        "df.isna().any()"
      ],
      "metadata": {
        "colab": {
          "base_uri": "https://localhost:8080/"
        },
        "id": "o-cZmE-yWou5",
        "outputId": "6ec131d7-5ed2-4829-8576-f85180ee360d"
      },
      "execution_count": null,
      "outputs": [
        {
          "output_type": "execute_result",
          "data": {
            "text/plain": [
              "FYEAR                False\n",
              "Bankruptcy Status    False\n",
              "CUSTOMERID           False\n",
              "Ratio1               False\n",
              "Ratio2               False\n",
              "Ratio3               False\n",
              "Ratio3.1             False\n",
              "Ratio4               False\n",
              "Ratio5               False\n",
              "Ratio6               False\n",
              "Ratio7               False\n",
              "Ratio8               False\n",
              "Ratio9               False\n",
              "dtype: bool"
            ]
          },
          "metadata": {},
          "execution_count": 9
        }
      ]
    },
    {
      "cell_type": "code",
      "source": [
        "df['Bankruptcy Status'].value_counts()"
      ],
      "metadata": {
        "colab": {
          "base_uri": "https://localhost:8080/"
        },
        "id": "lgShVKvsWqkv",
        "outputId": "62815a21-059f-4d92-d97f-fba30be58a95"
      },
      "execution_count": null,
      "outputs": [
        {
          "output_type": "execute_result",
          "data": {
            "text/plain": [
              "0    2262\n",
              "1     413\n",
              "Name: Bankruptcy Status, dtype: int64"
            ]
          },
          "metadata": {},
          "execution_count": 10
        }
      ]
    },
    {
      "cell_type": "code",
      "source": [
        "df[\"Bankruptcy Status\"].value_counts().plot(kind=\"pie\")"
      ],
      "metadata": {
        "colab": {
          "base_uri": "https://localhost:8080/",
          "height": 265
        },
        "id": "5k0C5Li7W7h4",
        "outputId": "36b6b263-4076-4817-b6c9-05733ddd8b2f"
      },
      "execution_count": null,
      "outputs": [
        {
          "output_type": "execute_result",
          "data": {
            "text/plain": [
              "<matplotlib.axes._subplots.AxesSubplot at 0x7f9880dba150>"
            ]
          },
          "metadata": {},
          "execution_count": 12
        },
        {
          "output_type": "display_data",
          "data": {
            "text/plain": [
              "<Figure size 432x288 with 1 Axes>"
            ],
            "image/png": "[encoded data removed]"
          },
          "metadata": {}
        }
      ]
    },
    {
      "cell_type": "code",
      "source": [
        "df[\"FYEAR\"].value_counts().plot(kind=\"pie\")"
      ],
      "metadata": {
        "colab": {
          "base_uri": "https://localhost:8080/",
          "height": 265
        },
        "id": "T2sQWbk2bZJw",
        "outputId": "ff3316ee-f2b4-4b92-f9c0-41d35ece8b30"
      },
      "execution_count": null,
      "outputs": [
        {
          "output_type": "execute_result",
          "data": {
            "text/plain": [
              "<matplotlib.axes._subplots.AxesSubplot at 0x7f987fd11290>"
            ]
          },
          "metadata": {},
          "execution_count": 13
        },
        {
          "output_type": "display_data",
          "data": {
            "text/plain": [
              "<Figure size 432x288 with 1 Axes>"
            ],
            "image/png": "[encoded data removed]"
          },
          "metadata": {}
        }
      ]
    },
    {
      "cell_type": "code",
      "source": [
        "df['FYEAR'].value_counts()"
      ],
      "metadata": {
        "colab": {
          "base_uri": "https://localhost:8080/"
        },
        "id": "sXn0puh7bj2P",
        "outputId": "4156f496-a865-4c1d-e67a-16e39d402d9b"
      },
      "execution_count": null,
      "outputs": [
        {
          "output_type": "execute_result",
          "data": {
            "text/plain": [
              "1999    2262\n",
              "1989      44\n",
              "1990      37\n",
              "1985      33\n",
              "1991      31\n",
              "1984      25\n",
              "1996      24\n",
              "1983      24\n",
              "1987      23\n",
              "1981      23\n",
              "1986      22\n",
              "1988      21\n",
              "1995      21\n",
              "1994      19\n",
              "1993      17\n",
              "1992      15\n",
              "1997      14\n",
              "1982      10\n",
              "1980      10\n",
              "Name: FYEAR, dtype: int64"
            ]
          },
          "metadata": {},
          "execution_count": 14
        }
      ]
    },
    {
      "cell_type": "code",
      "source": [
        "df = df.drop(['CUSTOMERID'], axis=1)"
      ],
      "metadata": {
        "id": "Uo9hYIUwXBpE"
      },
      "execution_count": null,
      "outputs": []
    },
    {
      "cell_type": "code",
      "source": [
        "df = df.drop(['FYEAR'], axis=1)"
      ],
      "metadata": {
        "id": "aVbZXyDkduJj"
      },
      "execution_count": null,
      "outputs": []
    },
    {
      "cell_type": "code",
      "source": [
        "df"
      ],
      "metadata": {
        "colab": {
          "base_uri": "https://localhost:8080/",
          "height": 424
        },
        "id": "JNjXDK_FYSjD",
        "outputId": "925e5d52-d57e-459b-de9f-fe08cf04bdac"
      },
      "execution_count": null,
      "outputs": [
        {
          "output_type": "execute_result",
          "data": {
            "text/plain": [
              "      Bankruptcy Status    Ratio1    Ratio2    Ratio3  Ratio3.1    Ratio4  \\\n",
              "0                     0  0.307139  0.887006  1.647681 -0.199158  1.092964   \n",
              "1                     0  0.760736  0.592493  0.453003 -0.369890  0.186154   \n",
              "2                     0 -0.513596  0.337615  0.299015 -0.029080 -0.432605   \n",
              "3                     1 -0.466129  0.370747  0.496067 -0.373429 -0.267424   \n",
              "4                     0  2.023422  0.214876  0.182595  6.695360 -1.148338   \n",
              "...                 ...       ...       ...       ...       ...       ...   \n",
              "2670                  0  0.191128  0.976163  0.608346 -0.278648  0.775383   \n",
              "2671                  0 -0.580954  0.102915 -0.201120 -0.407839 -0.898906   \n",
              "2672                  1  0.235830 -0.859216 -2.064232 -0.254868 -1.132475   \n",
              "2673                  0  0.916017  1.039148  0.527343 -0.238556  0.355071   \n",
              "2674                  0  0.584115  0.355832  0.153921 -0.358475  0.621118   \n",
              "\n",
              "        Ratio5    Ratio6    Ratio7    Ratio8    Ratio9  \n",
              "0    -0.313289 -0.196793  1.206763  0.282471  0.158896  \n",
              "1     0.039619  0.327497  0.428418  1.106965  0.793443  \n",
              "2     0.829993 -0.707786  0.476153  2.179175  2.484584  \n",
              "3     0.977799 -0.610975  0.456810  0.151951  0.047789  \n",
              "4    -1.505889  2.876477  0.287375 -0.986442  0.791077  \n",
              "...        ...       ...       ...       ...       ...  \n",
              "2670 -0.516430 -0.260754  0.713168  0.069354 -0.280715  \n",
              "2671  0.675926 -0.354823 -0.191266  0.812556  0.689247  \n",
              "2672 -0.949022 -0.003124 -2.208175 -1.659251 -1.410121  \n",
              "2673 -0.810784  0.306500  0.639685  0.031738 -0.259418  \n",
              "2674 -0.132256 -0.012307  0.314181  0.413782 -0.062551  \n",
              "\n",
              "[2675 rows x 11 columns]"
            ],
            "text/html": [
              "\n",
              "  <div id=\"df-f6ef8598-8006-42ad-af5b-48e5e2ef4ff3\">\n",
              "    <div class=\"colab-df-container\">\n",
              "      <div>\n",
              "<style scoped>\n",
              "    .dataframe tbody tr th:only-of-type {\n",
              "        vertical-align: middle;\n",
              "    }\n",
              "\n",
              "    .dataframe tbody tr th {\n",
              "        vertical-align: top;\n",
              "    }\n",
              "\n",
              "    .dataframe thead th {\n",
              "        text-align: right;\n",
              "    }\n",
              "</style>\n",
              "<table border=\"1\" class=\"dataframe\">\n",
              "  <thead>\n",
              "    <tr style=\"text-align: right;\">\n",
              "      <th></th>\n",
              "      <th>Bankruptcy Status</th>\n",
              "      <th>Ratio1</th>\n",
              "      <th>Ratio2</th>\n",
              "      <th>Ratio3</th>\n",
              "      <th>Ratio3.1</th>\n",
              "      <th>Ratio4</th>\n",
              "      <th>Ratio5</th>\n",
              "      <th>Ratio6</th>\n",
              "      <th>Ratio7</th>\n",
              "      <th>Ratio8</th>\n",
              "      <th>Ratio9</th>\n",
              "    </tr>\n",
              "  </thead>\n",
              "  <tbody>\n",
              "    <tr>\n",
              "      <th>0</th>\n",
              "      <td>0</td>\n",
              "      <td>0.307139</td>\n",
              "      <td>0.887006</td>\n",
              "      <td>1.647681</td>\n",
              "      <td>-0.199158</td>\n",
              "      <td>1.092964</td>\n",
              "      <td>-0.313289</td>\n",
              "      <td>-0.196793</td>\n",
              "      <td>1.206763</td>\n",
              "      <td>0.282471</td>\n",
              "      <td>0.158896</td>\n",
              "    </tr>\n",
              "    <tr>\n",
              "      <th>1</th>\n",
              "      <td>0</td>\n",
              "      <td>0.760736</td>\n",
              "      <td>0.592493</td>\n",
              "      <td>0.453003</td>\n",
              "      <td>-0.369890</td>\n",
              "      <td>0.186154</td>\n",
              "      <td>0.039619</td>\n",
              "      <td>0.327497</td>\n",
              "      <td>0.428418</td>\n",
              "      <td>1.106965</td>\n",
              "      <td>0.793443</td>\n",
              "    </tr>\n",
              "    <tr>\n",
              "      <th>2</th>\n",
              "      <td>0</td>\n",
              "      <td>-0.513596</td>\n",
              "      <td>0.337615</td>\n",
              "      <td>0.299015</td>\n",
              "      <td>-0.029080</td>\n",
              "      <td>-0.432605</td>\n",
              "      <td>0.829993</td>\n",
              "      <td>-0.707786</td>\n",
              "      <td>0.476153</td>\n",
              "      <td>2.179175</td>\n",
              "      <td>2.484584</td>\n",
              "    </tr>\n",
              "    <tr>\n",
              "      <th>3</th>\n",
              "      <td>1</td>\n",
              "      <td>-0.466129</td>\n",
              "      <td>0.370747</td>\n",
              "      <td>0.496067</td>\n",
              "      <td>-0.373429</td>\n",
              "      <td>-0.267424</td>\n",
              "      <td>0.977799</td>\n",
              "      <td>-0.610975</td>\n",
              "      <td>0.456810</td>\n",
              "      <td>0.151951</td>\n",
              "      <td>0.047789</td>\n",
              "    </tr>\n",
              "    <tr>\n",
              "      <th>4</th>\n",
              "      <td>0</td>\n",
              "      <td>2.023422</td>\n",
              "      <td>0.214876</td>\n",
              "      <td>0.182595</td>\n",
              "      <td>6.695360</td>\n",
              "      <td>-1.148338</td>\n",
              "      <td>-1.505889</td>\n",
              "      <td>2.876477</td>\n",
              "      <td>0.287375</td>\n",
              "      <td>-0.986442</td>\n",
              "      <td>0.791077</td>\n",
              "    </tr>\n",
              "    <tr>\n",
              "      <th>...</th>\n",
              "      <td>...</td>\n",
              "      <td>...</td>\n",
              "      <td>...</td>\n",
              "      <td>...</td>\n",
              "      <td>...</td>\n",
              "      <td>...</td>\n",
              "      <td>...</td>\n",
              "      <td>...</td>\n",
              "      <td>...</td>\n",
              "      <td>...</td>\n",
              "      <td>...</td>\n",
              "    </tr>\n",
              "    <tr>\n",
              "      <th>2670</th>\n",
              "      <td>0</td>\n",
              "      <td>0.191128</td>\n",
              "      <td>0.976163</td>\n",
              "      <td>0.608346</td>\n",
              "      <td>-0.278648</td>\n",
              "      <td>0.775383</td>\n",
              "      <td>-0.516430</td>\n",
              "      <td>-0.260754</td>\n",
              "      <td>0.713168</td>\n",
              "      <td>0.069354</td>\n",
              "      <td>-0.280715</td>\n",
              "    </tr>\n",
              "    <tr>\n",
              "      <th>2671</th>\n",
              "      <td>0</td>\n",
              "      <td>-0.580954</td>\n",
              "      <td>0.102915</td>\n",
              "      <td>-0.201120</td>\n",
              "      <td>-0.407839</td>\n",
              "      <td>-0.898906</td>\n",
              "      <td>0.675926</td>\n",
              "      <td>-0.354823</td>\n",
              "      <td>-0.191266</td>\n",
              "      <td>0.812556</td>\n",
              "      <td>0.689247</td>\n",
              "    </tr>\n",
              "    <tr>\n",
              "      <th>2672</th>\n",
              "      <td>1</td>\n",
              "      <td>0.235830</td>\n",
              "      <td>-0.859216</td>\n",
              "      <td>-2.064232</td>\n",
              "      <td>-0.254868</td>\n",
              "      <td>-1.132475</td>\n",
              "      <td>-0.949022</td>\n",
              "      <td>-0.003124</td>\n",
              "      <td>-2.208175</td>\n",
              "      <td>-1.659251</td>\n",
              "      <td>-1.410121</td>\n",
              "    </tr>\n",
              "    <tr>\n",
              "      <th>2673</th>\n",
              "      <td>0</td>\n",
              "      <td>0.916017</td>\n",
              "      <td>1.039148</td>\n",
              "      <td>0.527343</td>\n",
              "      <td>-0.238556</td>\n",
              "      <td>0.355071</td>\n",
              "      <td>-0.810784</td>\n",
              "      <td>0.306500</td>\n",
              "      <td>0.639685</td>\n",
              "      <td>0.031738</td>\n",
              "      <td>-0.259418</td>\n",
              "    </tr>\n",
              "    <tr>\n",
              "      <th>2674</th>\n",
              "      <td>0</td>\n",
              "      <td>0.584115</td>\n",
              "      <td>0.355832</td>\n",
              "      <td>0.153921</td>\n",
              "      <td>-0.358475</td>\n",
              "      <td>0.621118</td>\n",
              "      <td>-0.132256</td>\n",
              "      <td>-0.012307</td>\n",
              "      <td>0.314181</td>\n",
              "      <td>0.413782</td>\n",
              "      <td>-0.062551</td>\n",
              "    </tr>\n",
              "  </tbody>\n",
              "</table>\n",
              "<p>2675 rows × 11 columns</p>\n",
              "</div>\n",
              "      <button class=\"colab-df-convert\" onclick=\"convertToInteractive('df-f6ef8598-8006-42ad-af5b-48e5e2ef4ff3')\"\n",
              "              title=\"Convert this dataframe to an interactive table.\"\n",
              "              style=\"display:none;\">\n",
              "        \n",
              "  <svg xmlns=\"http://www.w3.org/2000/svg\" height=\"24px\"viewBox=\"0 0 24 24\"\n",
              "       width=\"24px\">\n",
              "    <path d=\"M0 0h24v24H0V0z\" fill=\"none\"/>\n",
              "    <path d=\"M18.56 5.44l.94 2.06.94-2.06 2.06-.94-2.06-.94-.94-2.06-.94 2.06-2.06.94zm-11 1L8.5 8.5l.94-2.06 2.06-.94-2.06-.94L8.5 2.5l-.94 2.06-2.06.94zm10 10l.94 2.06.94-2.06 2.06-.94-2.06-.94-.94-2.06-.94 2.06-2.06.94z\"/><path d=\"M17.41 7.96l-1.37-1.37c-.4-.4-.92-.59-1.43-.59-.52 0-1.04.2-1.43.59L10.3 9.45l-7.72 7.72c-.78.78-.78 2.05 0 2.83L4 21.41c.39.39.9.59 1.41.59.51 0 1.02-.2 1.41-.59l7.78-7.78 2.81-2.81c.8-.78.8-2.07 0-2.86zM5.41 20L4 18.59l7.72-7.72 1.47 1.35L5.41 20z\"/>\n",
              "  </svg>\n",
              "      </button>\n",
              "      \n",
              "  <style>\n",
              "    .colab-df-container {\n",
              "      display:flex;\n",
              "      flex-wrap:wrap;\n",
              "      gap: 12px;\n",
              "    }\n",
              "\n",
              "    .colab-df-convert {\n",
              "      background-color: #E8F0FE;\n",
              "      border: none;\n",
              "      border-radius: 50%;\n",
              "      cursor: pointer;\n",
              "      display: none;\n",
              "      fill: #1967D2;\n",
              "      height: 32px;\n",
              "      padding: 0 0 0 0;\n",
              "      width: 32px;\n",
              "    }\n",
              "\n",
              "    .colab-df-convert:hover {\n",
              "      background-color: #E2EBFA;\n",
              "      box-shadow: 0px 1px 2px rgba(60, 64, 67, 0.3), 0px 1px 3px 1px rgba(60, 64, 67, 0.15);\n",
              "      fill: #174EA6;\n",
              "    }\n",
              "\n",
              "    [theme=dark] .colab-df-convert {\n",
              "      background-color: #3B4455;\n",
              "      fill: #D2E3FC;\n",
              "    }\n",
              "\n",
              "    [theme=dark] .colab-df-convert:hover {\n",
              "      background-color: #434B5C;\n",
              "      box-shadow: 0px 1px 3px 1px rgba(0, 0, 0, 0.15);\n",
              "      filter: drop-shadow(0px 1px 2px rgba(0, 0, 0, 0.3));\n",
              "      fill: #FFFFFF;\n",
              "    }\n",
              "  </style>\n",
              "\n",
              "      <script>\n",
              "        const buttonEl =\n",
              "          document.querySelector('#df-f6ef8598-8006-42ad-af5b-48e5e2ef4ff3 button.colab-df-convert');\n",
              "        buttonEl.style.display =\n",
              "          google.colab.kernel.accessAllowed ? 'block' : 'none';\n",
              "\n",
              "        async function convertToInteractive(key) {\n",
              "          const element = document.querySelector('#df-f6ef8598-8006-42ad-af5b-48e5e2ef4ff3');\n",
              "          const dataTable =\n",
              "            await google.colab.kernel.invokeFunction('convertToInteractive',\n",
              "                                                     [key], {});\n",
              "          if (!dataTable) return;\n",
              "\n",
              "          const docLinkHtml = 'Like what you see? Visit the ' +\n",
              "            '<a target=\"_blank\" href=https://colab.research.google.com/notebooks/data_table.ipynb>data table notebook</a>'\n",
              "            + ' to learn more about interactive tables.';\n",
              "          element.innerHTML = '';\n",
              "          dataTable['output_type'] = 'display_data';\n",
              "          await google.colab.output.renderOutput(dataTable, element);\n",
              "          const docLink = document.createElement('div');\n",
              "          docLink.innerHTML = docLinkHtml;\n",
              "          element.appendChild(docLink);\n",
              "        }\n",
              "      </script>\n",
              "    </div>\n",
              "  </div>\n",
              "  "
            ]
          },
          "metadata": {},
          "execution_count": 17
        }
      ]
    },
    {
      "cell_type": "code",
      "source": [
        "sns.heatmap(df.corr(),cmap='Oranges')"
      ],
      "metadata": {
        "colab": {
          "base_uri": "https://localhost:8080/",
          "height": 368
        },
        "id": "MXMhNVlQqiHH",
        "outputId": "3a002ba5-221a-4d4c-d23a-d6b7299b0701"
      },
      "execution_count": null,
      "outputs": [
        {
          "output_type": "execute_result",
          "data": {
            "text/plain": [
              "<matplotlib.axes._subplots.AxesSubplot at 0x7f9871600790>"
            ]
          },
          "metadata": {},
          "execution_count": 43
        },
        {
          "output_type": "display_data",
          "data": {
            "text/plain": [
              "<Figure size 432x288 with 2 Axes>"
            ],
            "image/png": "[encoded data removed]"
          },
          "metadata": {
            "needs_background": "light"
          }
        }
      ]
    },
    {
      "cell_type": "code",
      "source": [
        "sc=MinMaxScaler()\n",
        "df1=df\n",
        "df=sc.fit_transform(df)"
      ],
      "metadata": {
        "id": "KaAP20J2YUwE"
      },
      "execution_count": null,
      "outputs": []
    },
    {
      "cell_type": "code",
      "source": [
        "df=pd.DataFrame(df,columns=df1.columns)"
      ],
      "metadata": {
        "id": "ofsQMcCnYmO1"
      },
      "execution_count": null,
      "outputs": []
    },
    {
      "cell_type": "code",
      "source": [
        "df.columns\n",
        "df.columns = ['Bankruptcy Status', 'Ratio1', 'Ratio2', 'Ratio3', 'Ratio4', 'Ratio5',\n",
        "       'Ratio6', 'Ratio7', 'Ratio8', 'Ratio9', 'Ratio10']"
      ],
      "metadata": {
        "id": "Je6JYSU_jE0Z"
      },
      "execution_count": null,
      "outputs": []
    },
    {
      "cell_type": "code",
      "source": [
        "df"
      ],
      "metadata": {
        "colab": {
          "base_uri": "https://localhost:8080/",
          "height": 424
        },
        "id": "Og4Lm4_YYo_-",
        "outputId": "bd81dca2-5c03-4249-90bb-4d64acba7101"
      },
      "execution_count": null,
      "outputs": [
        {
          "output_type": "execute_result",
          "data": {
            "text/plain": [
              "      Bankruptcy Status    Ratio1    Ratio2    Ratio3    Ratio4    Ratio5  \\\n",
              "0                   0.0  0.732090  0.839453  0.882382  0.032006  0.454959   \n",
              "1                   0.0  0.802896  0.760436  0.598388  0.008035  0.287034   \n",
              "2                   0.0  0.603974  0.692052  0.561782  0.055885  0.172452   \n",
              "3                   1.0  0.611383  0.700941  0.608625  0.007538  0.203040   \n",
              "4                   0.0  1.000000  0.659121  0.534107  1.000000  0.039911   \n",
              "...                 ...       ...       ...       ...       ...       ...   \n",
              "2670                0.0  0.713981  0.863374  0.635315  0.020845  0.396148   \n",
              "2671                0.0  0.593459  0.629082  0.442892  0.002707  0.086101   \n",
              "2672                1.0  0.720959  0.370942  0.000000  0.024184  0.042849   \n",
              "2673                0.0  0.827135  0.880273  0.616059  0.026474  0.318314   \n",
              "2674                0.0  0.775325  0.696939  0.527291  0.009638  0.367582   \n",
              "\n",
              "        Ratio6    Ratio7    Ratio8    Ratio9   Ratio10  \n",
              "0     0.180252  0.252224  0.811392  0.616264  0.505023  \n",
              "1     0.233591  0.379792  0.626457  0.783073  0.640074  \n",
              "2     0.353049  0.127891  0.637799  1.000000  1.000000  \n",
              "3     0.375389  0.151447  0.633203  0.589858  0.481376  \n",
              "4     0.000000  1.000000  0.592945  0.359541  0.639570  \n",
              "...        ...       ...       ...       ...       ...  \n",
              "2670  0.149548  0.236661  0.694113  0.573147  0.411460  \n",
              "2671  0.329763  0.213773  0.479219  0.723509  0.617898  \n",
              "2672  0.084166  0.299347  0.000000  0.223420  0.171089  \n",
              "2673  0.105059  0.374683  0.676654  0.565536  0.415993  \n",
              "2674  0.207613  0.297112  0.599314  0.642831  0.457892  \n",
              "\n",
              "[2675 rows x 11 columns]"
            ],
            "text/html": [
              "\n",
              "  <div id=\"df-c818b635-043e-4b82-a757-008e92609621\">\n",
              "    <div class=\"colab-df-container\">\n",
              "      <div>\n",
              "<style scoped>\n",
              "    .dataframe tbody tr th:only-of-type {\n",
              "        vertical-align: middle;\n",
              "    }\n",
              "\n",
              "    .dataframe tbody tr th {\n",
              "        vertical-align: top;\n",
              "    }\n",
              "\n",
              "    .dataframe thead th {\n",
              "        text-align: right;\n",
              "    }\n",
              "</style>\n",
              "<table border=\"1\" class=\"dataframe\">\n",
              "  <thead>\n",
              "    <tr style=\"text-align: right;\">\n",
              "      <th></th>\n",
              "      <th>Bankruptcy Status</th>\n",
              "      <th>Ratio1</th>\n",
              "      <th>Ratio2</th>\n",
              "      <th>Ratio3</th>\n",
              "      <th>Ratio4</th>\n",
              "      <th>Ratio5</th>\n",
              "      <th>Ratio6</th>\n",
              "      <th>Ratio7</th>\n",
              "      <th>Ratio8</th>\n",
              "      <th>Ratio9</th>\n",
              "      <th>Ratio10</th>\n",
              "    </tr>\n",
              "  </thead>\n",
              "  <tbody>\n",
              "    <tr>\n",
              "      <th>0</th>\n",
              "      <td>0.0</td>\n",
              "      <td>0.732090</td>\n",
              "      <td>0.839453</td>\n",
              "      <td>0.882382</td>\n",
              "      <td>0.032006</td>\n",
              "      <td>0.454959</td>\n",
              "      <td>0.180252</td>\n",
              "      <td>0.252224</td>\n",
              "      <td>0.811392</td>\n",
              "      <td>0.616264</td>\n",
              "      <td>0.505023</td>\n",
              "    </tr>\n",
              "    <tr>\n",
              "      <th>1</th>\n",
              "      <td>0.0</td>\n",
              "      <td>0.802896</td>\n",
              "      <td>0.760436</td>\n",
              "      <td>0.598388</td>\n",
              "      <td>0.008035</td>\n",
              "      <td>0.287034</td>\n",
              "      <td>0.233591</td>\n",
              "      <td>0.379792</td>\n",
              "      <td>0.626457</td>\n",
              "      <td>0.783073</td>\n",
              "      <td>0.640074</td>\n",
              "    </tr>\n",
              "    <tr>\n",
              "      <th>2</th>\n",
              "      <td>0.0</td>\n",
              "      <td>0.603974</td>\n",
              "      <td>0.692052</td>\n",
              "      <td>0.561782</td>\n",
              "      <td>0.055885</td>\n",
              "      <td>0.172452</td>\n",
              "      <td>0.353049</td>\n",
              "      <td>0.127891</td>\n",
              "      <td>0.637799</td>\n",
              "      <td>1.000000</td>\n",
              "      <td>1.000000</td>\n",
              "    </tr>\n",
              "    <tr>\n",
              "      <th>3</th>\n",
              "      <td>1.0</td>\n",
              "      <td>0.611383</td>\n",
              "      <td>0.700941</td>\n",
              "      <td>0.608625</td>\n",
              "      <td>0.007538</td>\n",
              "      <td>0.203040</td>\n",
              "      <td>0.375389</td>\n",
              "      <td>0.151447</td>\n",
              "      <td>0.633203</td>\n",
              "      <td>0.589858</td>\n",
              "      <td>0.481376</td>\n",
              "    </tr>\n",
              "    <tr>\n",
              "      <th>4</th>\n",
              "      <td>0.0</td>\n",
              "      <td>1.000000</td>\n",
              "      <td>0.659121</td>\n",
              "      <td>0.534107</td>\n",
              "      <td>1.000000</td>\n",
              "      <td>0.039911</td>\n",
              "      <td>0.000000</td>\n",
              "      <td>1.000000</td>\n",
              "      <td>0.592945</td>\n",
              "      <td>0.359541</td>\n",
              "      <td>0.639570</td>\n",
              "    </tr>\n",
              "    <tr>\n",
              "      <th>...</th>\n",
              "      <td>...</td>\n",
              "      <td>...</td>\n",
              "      <td>...</td>\n",
              "      <td>...</td>\n",
              "      <td>...</td>\n",
              "      <td>...</td>\n",
              "      <td>...</td>\n",
              "      <td>...</td>\n",
              "      <td>...</td>\n",
              "      <td>...</td>\n",
              "      <td>...</td>\n",
              "    </tr>\n",
              "    <tr>\n",
              "      <th>2670</th>\n",
              "      <td>0.0</td>\n",
              "      <td>0.713981</td>\n",
              "      <td>0.863374</td>\n",
              "      <td>0.635315</td>\n",
              "      <td>0.020845</td>\n",
              "      <td>0.396148</td>\n",
              "      <td>0.149548</td>\n",
              "      <td>0.236661</td>\n",
              "      <td>0.694113</td>\n",
              "      <td>0.573147</td>\n",
              "      <td>0.411460</td>\n",
              "    </tr>\n",
              "    <tr>\n",
              "      <th>2671</th>\n",
              "      <td>0.0</td>\n",
              "      <td>0.593459</td>\n",
              "      <td>0.629082</td>\n",
              "      <td>0.442892</td>\n",
              "      <td>0.002707</td>\n",
              "      <td>0.086101</td>\n",
              "      <td>0.329763</td>\n",
              "      <td>0.213773</td>\n",
              "      <td>0.479219</td>\n",
              "      <td>0.723509</td>\n",
              "      <td>0.617898</td>\n",
              "    </tr>\n",
              "    <tr>\n",
              "      <th>2672</th>\n",
              "      <td>1.0</td>\n",
              "      <td>0.720959</td>\n",
              "      <td>0.370942</td>\n",
              "      <td>0.000000</td>\n",
              "      <td>0.024184</td>\n",
              "      <td>0.042849</td>\n",
              "      <td>0.084166</td>\n",
              "      <td>0.299347</td>\n",
              "      <td>0.000000</td>\n",
              "      <td>0.223420</td>\n",
              "      <td>0.171089</td>\n",
              "    </tr>\n",
              "    <tr>\n",
              "      <th>2673</th>\n",
              "      <td>0.0</td>\n",
              "      <td>0.827135</td>\n",
              "      <td>0.880273</td>\n",
              "      <td>0.616059</td>\n",
              "      <td>0.026474</td>\n",
              "      <td>0.318314</td>\n",
              "      <td>0.105059</td>\n",
              "      <td>0.374683</td>\n",
              "      <td>0.676654</td>\n",
              "      <td>0.565536</td>\n",
              "      <td>0.415993</td>\n",
              "    </tr>\n",
              "    <tr>\n",
              "      <th>2674</th>\n",
              "      <td>0.0</td>\n",
              "      <td>0.775325</td>\n",
              "      <td>0.696939</td>\n",
              "      <td>0.527291</td>\n",
              "      <td>0.009638</td>\n",
              "      <td>0.367582</td>\n",
              "      <td>0.207613</td>\n",
              "      <td>0.297112</td>\n",
              "      <td>0.599314</td>\n",
              "      <td>0.642831</td>\n",
              "      <td>0.457892</td>\n",
              "    </tr>\n",
              "  </tbody>\n",
              "</table>\n",
              "<p>2675 rows × 11 columns</p>\n",
              "</div>\n",
              "      <button class=\"colab-df-convert\" onclick=\"convertToInteractive('df-c818b635-043e-4b82-a757-008e92609621')\"\n",
              "              title=\"Convert this dataframe to an interactive table.\"\n",
              "              style=\"display:none;\">\n",
              "        \n",
              "  <svg xmlns=\"http://www.w3.org/2000/svg\" height=\"24px\"viewBox=\"0 0 24 24\"\n",
              "       width=\"24px\">\n",
              "    <path d=\"M0 0h24v24H0V0z\" fill=\"none\"/>\n",
              "    <path d=\"M18.56 5.44l.94 2.06.94-2.06 2.06-.94-2.06-.94-.94-2.06-.94 2.06-2.06.94zm-11 1L8.5 8.5l.94-2.06 2.06-.94-2.06-.94L8.5 2.5l-.94 2.06-2.06.94zm10 10l.94 2.06.94-2.06 2.06-.94-2.06-.94-.94-2.06-.94 2.06-2.06.94z\"/><path d=\"M17.41 7.96l-1.37-1.37c-.4-.4-.92-.59-1.43-.59-.52 0-1.04.2-1.43.59L10.3 9.45l-7.72 7.72c-.78.78-.78 2.05 0 2.83L4 21.41c.39.39.9.59 1.41.59.51 0 1.02-.2 1.41-.59l7.78-7.78 2.81-2.81c.8-.78.8-2.07 0-2.86zM5.41 20L4 18.59l7.72-7.72 1.47 1.35L5.41 20z\"/>\n",
              "  </svg>\n",
              "      </button>\n",
              "      \n",
              "  <style>\n",
              "    .colab-df-container {\n",
              "      display:flex;\n",
              "      flex-wrap:wrap;\n",
              "      gap: 12px;\n",
              "    }\n",
              "\n",
              "    .colab-df-convert {\n",
              "      background-color: #E8F0FE;\n",
              "      border: none;\n",
              "      border-radius: 50%;\n",
              "      cursor: pointer;\n",
              "      display: none;\n",
              "      fill: #1967D2;\n",
              "      height: 32px;\n",
              "      padding: 0 0 0 0;\n",
              "      width: 32px;\n",
              "    }\n",
              "\n",
              "    .colab-df-convert:hover {\n",
              "      background-color: #E2EBFA;\n",
              "      box-shadow: 0px 1px 2px rgba(60, 64, 67, 0.3), 0px 1px 3px 1px rgba(60, 64, 67, 0.15);\n",
              "      fill: #174EA6;\n",
              "    }\n",
              "\n",
              "    [theme=dark] .colab-df-convert {\n",
              "      background-color: #3B4455;\n",
              "      fill: #D2E3FC;\n",
              "    }\n",
              "\n",
              "    [theme=dark] .colab-df-convert:hover {\n",
              "      background-color: #434B5C;\n",
              "      box-shadow: 0px 1px 3px 1px rgba(0, 0, 0, 0.15);\n",
              "      filter: drop-shadow(0px 1px 2px rgba(0, 0, 0, 0.3));\n",
              "      fill: #FFFFFF;\n",
              "    }\n",
              "  </style>\n",
              "\n",
              "      <script>\n",
              "        const buttonEl =\n",
              "          document.querySelector('#df-c818b635-043e-4b82-a757-008e92609621 button.colab-df-convert');\n",
              "        buttonEl.style.display =\n",
              "          google.colab.kernel.accessAllowed ? 'block' : 'none';\n",
              "\n",
              "        async function convertToInteractive(key) {\n",
              "          const element = document.querySelector('#df-c818b635-043e-4b82-a757-008e92609621');\n",
              "          const dataTable =\n",
              "            await google.colab.kernel.invokeFunction('convertToInteractive',\n",
              "                                                     [key], {});\n",
              "          if (!dataTable) return;\n",
              "\n",
              "          const docLinkHtml = 'Like what you see? Visit the ' +\n",
              "            '<a target=\"_blank\" href=https://colab.research.google.com/notebooks/data_table.ipynb>data table notebook</a>'\n",
              "            + ' to learn more about interactive tables.';\n",
              "          element.innerHTML = '';\n",
              "          dataTable['output_type'] = 'display_data';\n",
              "          await google.colab.output.renderOutput(dataTable, element);\n",
              "          const docLink = document.createElement('div');\n",
              "          docLink.innerHTML = docLinkHtml;\n",
              "          element.appendChild(docLink);\n",
              "        }\n",
              "      </script>\n",
              "    </div>\n",
              "  </div>\n",
              "  "
            ]
          },
          "metadata": {},
          "execution_count": 31
        }
      ]
    },
    {
      "cell_type": "code",
      "source": [
        "sns.heatmap(df.corr(),cmap = 'Blues',annot =True)"
      ],
      "metadata": {
        "colab": {
          "base_uri": "https://localhost:8080/",
          "height": 368
        },
        "id": "2s8Pah-TrAuI",
        "outputId": "bc391087-cb40-4d61-ae42-3c4751295c1c"
      },
      "execution_count": null,
      "outputs": [
        {
          "output_type": "execute_result",
          "data": {
            "text/plain": [
              "<matplotlib.axes._subplots.AxesSubplot at 0x7f987130af10>"
            ]
          },
          "metadata": {},
          "execution_count": 45
        },
        {
          "output_type": "display_data",
          "data": {
            "text/plain": [
              "<Figure size 432x288 with 2 Axes>"
            ],
            "image/png": "[encoded data removed]"
          },
          "metadata": {
            "needs_background": "light"
          }
        }
      ]
    },
    {
      "cell_type": "code",
      "source": [
        "X=df.drop(\"Bankruptcy Status\",axis=1)\n",
        "Y=df[\"Bankruptcy Status\"]"
      ],
      "metadata": {
        "id": "GT_dsbeeYqkN"
      },
      "execution_count": null,
      "outputs": []
    },
    {
      "cell_type": "code",
      "source": [
        "from sklearn.model_selection import train_test_split\n",
        "\n",
        "X_train, X_test, Y_train, Y_test = train_test_split(X, Y, test_size = 0.2, random_state = 0) "
      ],
      "metadata": {
        "id": "ZXGoTPqfcpAW"
      },
      "execution_count": null,
      "outputs": []
    },
    {
      "cell_type": "code",
      "source": [
        "from sklearn.metrics import accuracy_score, confusion_matrix ,precision_score, recall_score"
      ],
      "metadata": {
        "id": "stVEgeJVcrwT"
      },
      "execution_count": null,
      "outputs": []
    },
    {
      "cell_type": "code",
      "source": [
        "print(\"Number transactions X_train dataset : \",X_train.shape)\n",
        "print(\"Number transactions X_test dataset : \",X_test.shape)\n",
        "print(\"Number transactions y_train dataset : \",Y_train.shape)\n",
        "print(\"Number transactions y_test dataset : \",Y_test.shape)"
      ],
      "metadata": {
        "colab": {
          "base_uri": "https://localhost:8080/"
        },
        "id": "Dw-FPx_TctYu",
        "outputId": "5a94c01a-7c13-4229-c791-0455b305f5c4"
      },
      "execution_count": null,
      "outputs": [
        {
          "output_type": "stream",
          "name": "stdout",
          "text": [
            "Number transactions X_train dataset :  (2140, 10)\n",
            "Number transactions X_test dataset :  (535, 10)\n",
            "Number transactions y_train dataset :  (2140,)\n",
            "Number transactions y_test dataset :  (535,)\n"
          ]
        }
      ]
    },
    {
      "cell_type": "code",
      "source": [
        "from sklearn.linear_model import LogisticRegression\n",
        "from sklearn.metrics import classification_report,confusion_matrix\n",
        "lr=LogisticRegression()\n",
        "lr.fit(X_train,Y_train)\n",
        "predictions=lr.predict(X_test)\n",
        "\n",
        "print(classification_report(Y_test,predictions))"
      ],
      "metadata": {
        "colab": {
          "base_uri": "https://localhost:8080/"
        },
        "id": "OET3FHlpcu6k",
        "outputId": "617e2a86-206e-46da-acfc-c2ea93358f72"
      },
      "execution_count": null,
      "outputs": [
        {
          "output_type": "stream",
          "name": "stdout",
          "text": [
            "              precision    recall  f1-score   support\n",
            "\n",
            "         0.0       0.91      0.97      0.94       460\n",
            "         1.0       0.67      0.39      0.49        75\n",
            "\n",
            "    accuracy                           0.89       535\n",
            "   macro avg       0.79      0.68      0.71       535\n",
            "weighted avg       0.87      0.89      0.87       535\n",
            "\n"
          ]
        }
      ]
    },
    {
      "cell_type": "code",
      "source": [
        "y_pred = lr.predict(X_test)\n",
        "y_test = pd.DataFrame(Y_test)\n",
        "cm = confusion_matrix(y_test, y_pred.round())\n",
        "sns.heatmap(cm, annot=True, fmt='.0f')\n",
        "plt.show()"
      ],
      "metadata": {
        "colab": {
          "base_uri": "https://localhost:8080/",
          "height": 265
        },
        "id": "ZSjz_Kl6cxEG",
        "outputId": "7548e6bf-7dac-4f0f-a0ce-bb4fa404324d"
      },
      "execution_count": null,
      "outputs": [
        {
          "output_type": "display_data",
          "data": {
            "text/plain": [
              "<Figure size 432x288 with 2 Axes>"
            ],
            "image/png": "[encoded data removed]"
          },
          "metadata": {
            "needs_background": "light"
          }
        }
      ]
    },
    {
      "cell_type": "code",
      "source": [
        "import xgboost as xgb\n",
        "from sklearn.metrics import classification_report,confusion_matrix\n",
        "xgb1=xgb.XGBClassifier()\n",
        "xgb1.fit(X_train,Y_train)\n",
        "xgb1_yhat=xgb1.predict(X_test)\n",
        "print(classification_report(Y_test,xgb1_yhat))"
      ],
      "metadata": {
        "colab": {
          "base_uri": "https://localhost:8080/"
        },
        "id": "5dyfhpF5dZKW",
        "outputId": "1b515a81-1db5-4752-ce7f-57ef8394c38b"
      },
      "execution_count": null,
      "outputs": [
        {
          "output_type": "stream",
          "name": "stdout",
          "text": [
            "              precision    recall  f1-score   support\n",
            "\n",
            "         0.0       0.92      0.96      0.94       460\n",
            "         1.0       0.70      0.52      0.60        75\n",
            "\n",
            "    accuracy                           0.90       535\n",
            "   macro avg       0.81      0.74      0.77       535\n",
            "weighted avg       0.89      0.90      0.89       535\n",
            "\n"
          ]
        }
      ]
    },
    {
      "cell_type": "code",
      "source": [
        "y_pred = xgb1.predict(X_test)\n",
        "y_test = pd.DataFrame(Y_test)\n",
        "cm = confusion_matrix(y_test, y_pred.round())\n",
        "sns.heatmap(cm, annot=True, fmt='.0f')\n",
        "plt.show()"
      ],
      "metadata": {
        "colab": {
          "base_uri": "https://localhost:8080/",
          "height": 265
        },
        "id": "OPNhenCLdVox",
        "outputId": "9cd412dc-ad31-4dc7-99ff-29cd05964c3b"
      },
      "execution_count": null,
      "outputs": [
        {
          "output_type": "display_data",
          "data": {
            "text/plain": [
              "<Figure size 432x288 with 2 Axes>"
            ],
            "image/png": "[encoded data removed]"
          },
          "metadata": {
            "needs_background": "light"
          }
        }
      ]
    },
    {
      "cell_type": "code",
      "source": [
        "#get feature importances from the model\n",
        "from sklearn.ensemble import GradientBoostingClassifier\n",
        "headers = [\"name\", \"score\"]\n",
        "values = sorted(zip(X_train.columns, xgb1.feature_importances_), key=lambda x: x[1] * -1)\n",
        "xgb_feature_importances = pd.DataFrame(values, columns = headers)\n",
        "\n",
        "#plot feature importances\n",
        "x_pos = np.arange(0, len(xgb_feature_importances))\n",
        "plt.bar(x_pos, xgb_feature_importances['score'])\n",
        "plt.xticks(x_pos, xgb_feature_importances['name'])\n",
        "plt.xticks(rotation=90)\n",
        "plt.title('Feature importances (XGB)')\n",
        "\n",
        "plt.show()"
      ],
      "metadata": {
        "colab": {
          "base_uri": "https://localhost:8080/",
          "height": 309
        },
        "id": "1fHS5GKuc_-J",
        "outputId": "d66f4414-a42a-4dfc-d1f1-becf13a052f9"
      },
      "execution_count": null,
      "outputs": [
        {
          "output_type": "display_data",
          "data": {
            "text/plain": [
              "<Figure size 432x288 with 1 Axes>"
            ],
            "image/png": "[encoded data removed]"
          },
          "metadata": {
            "needs_background": "light"
          }
        }
      ]
    },
    {
      "cell_type": "code",
      "source": [],
      "metadata": {
        "id": "3f7KzdtLdRL7"
      },
      "execution_count": null,
      "outputs": []
    }
  ]
}